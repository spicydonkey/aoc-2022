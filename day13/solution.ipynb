{
 "cells": [
  {
   "cell_type": "code",
   "execution_count": 21,
   "id": "989bc8e4-4872-422b-9dca-cdebabc263cd",
   "metadata": {},
   "outputs": [],
   "source": [
    "filename = \"input.txt\""
   ]
  },
  {
   "cell_type": "code",
   "execution_count": 22,
   "id": "d665027b-f16d-4861-af71-ba80db64363b",
   "metadata": {},
   "outputs": [],
   "source": [
    "def parse_to_list(s):\n",
    "    # [ ... ]\n",
    "    parsed_list = []\n",
    "    s = s[1:-1]  # strip off outer brackest\n",
    "    \n",
    "    i = 0\n",
    "    while i < len(s):\n",
    "        # print(f\"{i=}\")\n",
    "        # print(f\"{s[i:]=}\")\n",
    "        if s[i] == \",\":\n",
    "            i = i + 1\n",
    "        elif s[i] == \"[\":\n",
    "            # get substring to matching bracket [i, i']\n",
    "            bracket_count = 1\n",
    "            i_match = i\n",
    "            while bracket_count > 0:\n",
    "                i_match += 1\n",
    "                if s[i_match] == \"[\":\n",
    "                    bracket_count += 1\n",
    "                elif s[i_match] == \"]\":\n",
    "                    bracket_count -= 1\n",
    "            parsed_list.append(parse_to_list(s[i:i_match+1]))\n",
    "            i = i_match + 1\n",
    "        else:\n",
    "            # read this integer element\n",
    "            i_match = s.find(\",\", i)\n",
    "            if i_match == -1:\n",
    "                i_match = len(s)\n",
    "            parsed_list.append(int(s[i:i_match]))\n",
    "            i = i_match + 1\n",
    "            \n",
    "    return parsed_list"
   ]
  },
  {
   "cell_type": "code",
   "execution_count": 23,
   "id": "09bf71fd-faa3-4098-a896-c55272b4a9de",
   "metadata": {},
   "outputs": [],
   "source": [
    "def compare_packets(packet_l, packet_r):\n",
    "    if packet_l == packet_r:\n",
    "        return 0\n",
    "    \n",
    "    # base cases:\n",
    "    # if L is empty, it is ordered\n",
    "    if len(packet_l) == 0:\n",
    "        return 1\n",
    "    # else, if R is empty, it is not ordered\n",
    "    if len(packet_r) == 0:\n",
    "        return -1\n",
    "    \n",
    "    # check first elems are ordered\n",
    "    first_val_l = packet_l[0]\n",
    "    first_val_r = packet_r[0]\n",
    "    if isinstance(first_val_l, int) and isinstance(first_val_r, int):\n",
    "        if first_val_l < first_val_r:\n",
    "            return 1\n",
    "        if first_val_l > first_val_r:\n",
    "            return -1\n",
    "        # it's a tie up to here\n",
    "        return compare_packets(packet_l[1:], packet_r[1:])\n",
    "    \n",
    "    if isinstance(first_val_l, int):\n",
    "        first_val_l = [first_val_l]\n",
    "    if isinstance(first_val_r, int):\n",
    "        first_val_r = [first_val_r]\n",
    "    # NOTE: could be identical\n",
    "    cmp_first_packet = compare_packets(first_val_l, first_val_r)\n",
    "    if cmp_first_packet == 0:\n",
    "        return compare_packets(packet_l[1:], packet_r[1:])\n",
    "    return cmp_first_packet"
   ]
  },
  {
   "cell_type": "code",
   "execution_count": 24,
   "id": "94c35fff-4780-40e2-b354-09c62d29f82d",
   "metadata": {},
   "outputs": [],
   "source": [
    "# Parse the inputs from file \n",
    "with open(filename, \"r\") as file:\n",
    "    packets = []\n",
    "    for line in file:\n",
    "        line = line.strip()\n",
    "        if line != \"\":\n",
    "            packets.append(parse_to_list(line))"
   ]
  },
  {
   "cell_type": "code",
   "execution_count": 25,
   "id": "217567a1-e15d-47cc-b450-06e9b790c3d7",
   "metadata": {},
   "outputs": [
    {
     "name": "stdout",
     "output_type": "stream",
     "text": [
      "sum(idx_ordered_packets)=4809\n"
     ]
    }
   ],
   "source": [
    "# Problem 1\n",
    "idx_ordered_packets = []\n",
    "for i in range(0, len(packets), 2):\n",
    "    # print(i)\n",
    "    # print(f\"{packets[i]=}\")\n",
    "    # print(f\"{packets[i+1]=}\")\n",
    "    if compare_packets(packets[i], packets[i+1]) >= 0:\n",
    "        idx_ordered_packets.append(i//2 + 1)\n",
    "        # print(\"ordered!\")\n",
    "print(f\"{sum(idx_ordered_packets)=}\")"
   ]
  },
  {
   "cell_type": "code",
   "execution_count": 26,
   "id": "e576e03c-aa5d-4495-9486-cd25206ab5e1",
   "metadata": {},
   "outputs": [],
   "source": [
    "# Problem 2\n",
    "# include the divider packets\n",
    "packets_with_divider = packets.copy()\n",
    "packets_with_divider.append([[2]])\n",
    "packets_with_divider.append([[6]])\n",
    "\n",
    "# sort the packets in order \n",
    "from functools import cmp_to_key\n",
    "packets_with_divider_sorted = sorted(packets_with_divider, key=cmp_to_key(compare_packets), reverse=True)"
   ]
  },
  {
   "cell_type": "code",
   "execution_count": 31,
   "id": "e69a3a48-9026-4b4a-b10f-cb054e30cef9",
   "metadata": {},
   "outputs": [],
   "source": [
    "# packets_with_divider_sorted"
   ]
  },
  {
   "cell_type": "code",
   "execution_count": 28,
   "id": "af118052-7ef8-4976-857b-dfb0e7f6e62a",
   "metadata": {},
   "outputs": [],
   "source": [
    "idx_div_start = packets_with_divider_sorted.index([[2]]) + 1"
   ]
  },
  {
   "cell_type": "code",
   "execution_count": 29,
   "id": "738ae753-b616-4f61-8fc3-76d7c6ffe6c0",
   "metadata": {},
   "outputs": [],
   "source": [
    "idx_div_end = packets_with_divider_sorted.index([[6]]) + 1"
   ]
  },
  {
   "cell_type": "code",
   "execution_count": 30,
   "id": "63e34c9b-d070-4ac7-8260-68f747262cb2",
   "metadata": {},
   "outputs": [
    {
     "name": "stdout",
     "output_type": "stream",
     "text": [
      "decoder_key=22600\n"
     ]
    }
   ],
   "source": [
    "decoder_key = idx_div_start * idx_div_end\n",
    "print(f\"{decoder_key=}\")"
   ]
  },
  {
   "cell_type": "code",
   "execution_count": null,
   "id": "7f922a3c-0697-4288-9a9e-4ba0a9747c80",
   "metadata": {},
   "outputs": [],
   "source": []
  }
 ],
 "metadata": {
  "kernelspec": {
   "display_name": "Python 3",
   "language": "python",
   "name": "python3"
  },
  "language_info": {
   "codemirror_mode": {
    "name": "ipython",
    "version": 3
   },
   "file_extension": ".py",
   "mimetype": "text/x-python",
   "name": "python",
   "nbconvert_exporter": "python",
   "pygments_lexer": "ipython3",
   "version": "3.9.13"
  }
 },
 "nbformat": 4,
 "nbformat_minor": 5
}
