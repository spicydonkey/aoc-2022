{
 "cells": [
  {
   "cell_type": "code",
   "execution_count": 65,
   "id": "9ca67af4-794c-4718-a217-fc093247c5d1",
   "metadata": {},
   "outputs": [],
   "source": [
    "from icecream import ic"
   ]
  },
  {
   "cell_type": "code",
   "execution_count": 71,
   "id": "d8c2a20d-bf4e-480a-8f0b-475161528e73",
   "metadata": {},
   "outputs": [],
   "source": [
    "filename = \"test.txt\""
   ]
  },
  {
   "cell_type": "code",
   "execution_count": 72,
   "id": "dcbd3586-c4ec-4509-9474-88391ac3ab66",
   "metadata": {},
   "outputs": [
    {
     "name": "stderr",
     "output_type": "stream",
     "text": [
      "ic| tops: 'CMZ'\n"
     ]
    },
    {
     "data": {
      "text/plain": [
       "'CMZ'"
      ]
     },
     "execution_count": 72,
     "metadata": {},
     "output_type": "execute_result"
    }
   ],
   "source": [
    "# Problem 1\n",
    "\n",
    "with open(filename, \"r\") as file:\n",
    "    # parse the blocks and constructor the initial state of stack\n",
    "    stacks = {}\n",
    "    for line in file:\n",
    "        # parse blocks for each stack\n",
    "        blocks = [line[i] for i in range(1, len(line), 4)]\n",
    "        # print(blocks)\n",
    "        \n",
    "        # check if end of blocks input is reached\n",
    "        if blocks[0] == \"1\":\n",
    "            break\n",
    "        \n",
    "        # push this row of blocks to stack\n",
    "        for i, block in enumerate(blocks):\n",
    "            if block == \" \":\n",
    "                continue\n",
    "            stacks[i+1] = stacks.get(i+1, [])\n",
    "            stacks[i+1].append(block)\n",
    "    # reverse the order now\n",
    "    for i, stack in stacks.items():\n",
    "        stacks[i] = stack[::-1]\n",
    "    \n",
    "    # print(stacks)\n",
    "    \n",
    "    file.readline()  # empty line\n",
    "    \n",
    "    # parse and do the move instructions\n",
    "    for line in file:\n",
    "        instruction = line.strip().split(\" \")\n",
    "        n_blocks = int(instruction[1])\n",
    "        stack_from = int(instruction[3])\n",
    "        stack_to = int(instruction[5])\n",
    "        \n",
    "        # ic(instruction)\n",
    "        # ic(n_blocks, stack_from, stack_to)\n",
    "        \n",
    "        # do the move\n",
    "        for _ in range(n_blocks):\n",
    "            stacks[stack_to].append(stacks[stack_from].pop())\n",
    "            \n",
    "# ic(stacks)\n",
    "\n",
    "# get the top of stacks in the order of stack number\n",
    "tops = \"\".join((stacks[i+1][-1] for i in range(len(stacks))))\n",
    "ic(tops)"
   ]
  },
  {
   "cell_type": "code",
   "execution_count": 75,
   "id": "9dbd7334-4a4e-4709-9d1d-a215f0cfeca9",
   "metadata": {},
   "outputs": [
    {
     "name": "stderr",
     "output_type": "stream",
     "text": [
      "ic| tops: 'MCD'\n"
     ]
    },
    {
     "data": {
      "text/plain": [
       "'MCD'"
      ]
     },
     "execution_count": 75,
     "metadata": {},
     "output_type": "execute_result"
    }
   ],
   "source": [
    "# Problem 2\n",
    "\n",
    "with open(filename, \"r\") as file:\n",
    "    # parse the blocks and constructor the initial state of stack\n",
    "    stacks = {}\n",
    "    for line in file:\n",
    "        # parse blocks for each stack\n",
    "        blocks = [line[i] for i in range(1, len(line), 4)]\n",
    "        # print(blocks)\n",
    "        \n",
    "        # check if end of blocks input is reached\n",
    "        if blocks[0] == \"1\":\n",
    "            break\n",
    "        \n",
    "        # push this row of blocks to stack\n",
    "        for i, block in enumerate(blocks):\n",
    "            if block == \" \":\n",
    "                continue\n",
    "            stacks[i+1] = stacks.get(i+1, [])\n",
    "            stacks[i+1].append(block)\n",
    "    # reverse the order now\n",
    "    for i, stack in stacks.items():\n",
    "        stacks[i] = stack[::-1]\n",
    "    \n",
    "    # print(stacks)\n",
    "    \n",
    "    file.readline()  # empty line\n",
    "    \n",
    "    # parse and do the move instructions\n",
    "    for line in file:\n",
    "        instruction = line.strip().split(\" \")\n",
    "        n_blocks = int(instruction[1])\n",
    "        stack_from = int(instruction[3])\n",
    "        stack_to = int(instruction[5])\n",
    "        \n",
    "        # ic(instruction)\n",
    "        # ic(n_blocks, stack_from, stack_to)\n",
    "        \n",
    "        # do the move\n",
    "        temp_list = []\n",
    "        for _ in range(n_blocks):\n",
    "            temp_list.append(stacks[stack_from].pop())\n",
    "        stacks[stack_to] += temp_list[::-1]\n",
    "        \n",
    "            \n",
    "# ic(stacks)\n",
    "\n",
    "# get the top of stacks in the order of stack number\n",
    "tops = \"\".join((stacks[i+1][-1] for i in range(len(stacks))))\n",
    "ic(tops)"
   ]
  },
  {
   "cell_type": "code",
   "execution_count": null,
   "id": "d8b2834e-7bbc-41d9-9ae5-2c84eaab6d90",
   "metadata": {},
   "outputs": [],
   "source": []
  }
 ],
 "metadata": {
  "kernelspec": {
   "display_name": "Python 3",
   "language": "python",
   "name": "python3"
  },
  "language_info": {
   "codemirror_mode": {
    "name": "ipython",
    "version": 3
   },
   "file_extension": ".py",
   "mimetype": "text/x-python",
   "name": "python",
   "nbconvert_exporter": "python",
   "pygments_lexer": "ipython3",
   "version": "3.9.13"
  }
 },
 "nbformat": 4,
 "nbformat_minor": 5
}
