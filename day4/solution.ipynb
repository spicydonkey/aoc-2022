{
 "cells": [
  {
   "cell_type": "code",
   "execution_count": 32,
   "id": "8b4ab8f2-34e3-4a14-bd25-8c9633109f40",
   "metadata": {},
   "outputs": [],
   "source": [
    "filename = \"input.txt\""
   ]
  },
  {
   "cell_type": "code",
   "execution_count": 33,
   "id": "76055d7c-05b9-4296-a391-3bd1554c57fd",
   "metadata": {},
   "outputs": [
    {
     "name": "stdout",
     "output_type": "stream",
     "text": [
      "n_duplicates=602\n"
     ]
    }
   ],
   "source": [
    "# Full overlap\n",
    "\n",
    "n_duplicates = 0 \n",
    "with open(filename, \"r\") as file:\n",
    "    for line in file:\n",
    "        ranges = list(map(lambda s: list(map(int, s.split(\"-\"))), line.strip().split(\",\")))\n",
    "        range_min = [r[0] for r in ranges]\n",
    "        range_max = [r[1] for r in ranges]\n",
    "\n",
    "        # if argmin of range_min and argmax of range_max are equal, then one range fully contains the other\n",
    "        # we need to catch the edge case where there are multiple extrema\n",
    "        min_val = min(range_min)\n",
    "        idx_min = {i for i in range(len(ranges)) if range_min[i]==min_val}\n",
    "\n",
    "        max_val = max(range_max)\n",
    "        idx_max = {i for i in range(len(ranges)) if range_max[i]==max_val}\n",
    "        \n",
    "        if len(idx_min.intersection(idx_max)) > 0:\n",
    "            n_duplicates += 1\n",
    "        \n",
    "print(f\"{n_duplicates=}\")"
   ]
  },
  {
   "cell_type": "code",
   "execution_count": 35,
   "id": "71f24024-92fe-42f8-bd0f-5ec4e445375b",
   "metadata": {},
   "outputs": [
    {
     "name": "stdout",
     "output_type": "stream",
     "text": [
      "n_partial_overlap=891\n"
     ]
    }
   ],
   "source": [
    "# Partial overlap\n",
    "\n",
    "n_partial_overlap = 0 \n",
    "with open(filename, \"r\") as file:\n",
    "    for line in file:\n",
    "        ranges = list(map(lambda s: list(map(int, s.split(\"-\"))), line.strip().split(\",\")))\n",
    "        # similar to proper subset, but with partial, we check for the case that there is a range where\n",
    "        # other's max must be greater or eq to this min, AND\n",
    "        # other's min must be less or eq to this max.\n",
    "        ranges[1] = ranges[1][::-1]\n",
    "        range_min = [r[0] for r in ranges]\n",
    "        range_max = [r[1] for r in ranges]\n",
    "\n",
    "        min_val = min(range_min)\n",
    "        idx_min = {i for i in range(len(ranges)) if range_min[i]==min_val}\n",
    "\n",
    "        max_val = max(range_max)\n",
    "        idx_max = {i for i in range(len(ranges)) if range_max[i]==max_val}\n",
    "        \n",
    "        if len(idx_min.intersection(idx_max)) > 0:\n",
    "            n_partial_overlap += 1\n",
    "        \n",
    "print(f\"{n_partial_overlap=}\")"
   ]
  },
  {
   "cell_type": "code",
   "execution_count": null,
   "id": "f1168430-cbe5-423b-9b0a-639208405802",
   "metadata": {},
   "outputs": [],
   "source": []
  }
 ],
 "metadata": {
  "kernelspec": {
   "display_name": "Python 3",
   "language": "python",
   "name": "python3"
  },
  "language_info": {
   "codemirror_mode": {
    "name": "ipython",
    "version": 3
   },
   "file_extension": ".py",
   "mimetype": "text/x-python",
   "name": "python",
   "nbconvert_exporter": "python",
   "pygments_lexer": "ipython3",
   "version": "3.9.13"
  }
 },
 "nbformat": 4,
 "nbformat_minor": 5
}
