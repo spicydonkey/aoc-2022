{
 "cells": [
  {
   "cell_type": "code",
   "execution_count": 107,
   "id": "2a12f02d-4d83-46a9-998e-a9721f4a8792",
   "metadata": {},
   "outputs": [],
   "source": [
    "filename = \"input.txt\""
   ]
  },
  {
   "cell_type": "code",
   "execution_count": 29,
   "id": "068c3882-5f9d-402d-b463-ad0a1ee3e054",
   "metadata": {},
   "outputs": [],
   "source": [
    "import numpy as np"
   ]
  },
  {
   "cell_type": "code",
   "execution_count": 109,
   "id": "4bd1a790-dfc2-4688-98fc-0e4f48a810a4",
   "metadata": {},
   "outputs": [
    {
     "name": "stdout",
     "output_type": "stream",
     "text": [
      "len(tail_pos_visited)=6256\n"
     ]
    }
   ],
   "source": [
    "# Problem 1\n",
    "delta_steps = {\"L\": (-1, 0), \"R\": (1, 0), \"U\": (0, 1), \"D\": (0, -1)}\n",
    "\n",
    "tail_pos_visited = set()  # set of positions visited by rope's tail\n",
    "\n",
    "head_position = np.array([0, 0])\n",
    "tail_position = np.array([0, 0])\n",
    "\n",
    "with open(filename, \"r\") as file:\n",
    "    for line in file:\n",
    "        direction, num_steps = line.strip().split()\n",
    "        num_steps = int(num_steps)\n",
    "        \n",
    "        # print(direction, num_steps)\n",
    "        this_step = np.array(delta_steps[direction])\n",
    "        for _ in range(num_steps):\n",
    "            # move head\n",
    "            head_position += this_step\n",
    "            # print(head_position)\n",
    "            \n",
    "            # move tail\n",
    "            displacement = head_position - tail_position\n",
    "            if np.max(np.abs(displacement)) > 1:\n",
    "                move_axis = np.argmax(np.abs(displacement))\n",
    "                displacement[move_axis] = np.sign(displacement[move_axis])*(np.abs(displacement[move_axis]) - 1) # move only half-way this way\n",
    "                tail_position += displacement\n",
    "            \n",
    "            # update visited\n",
    "            tail_pos_visited.add(tuple(tail_position))\n",
    "            \n",
    "print(f\"{len(tail_pos_visited)=}\")"
   ]
  },
  {
   "cell_type": "code",
   "execution_count": 108,
   "id": "5bfe4752-355c-4ac3-a937-3cbfa5a7df26",
   "metadata": {},
   "outputs": [
    {
     "name": "stdout",
     "output_type": "stream",
     "text": [
      "len(tail_pos_visited)=2665\n"
     ]
    }
   ],
   "source": [
    "# Problem 2 -- rope length L\n",
    "\n",
    "def evolve_rope(nodes, step):\n",
    "    # move the head\n",
    "    nodes[0] += step\n",
    "    \n",
    "    # for all suceeding nodes, follow previous\n",
    "    for i in range(1, len(nodes)):\n",
    "        prev_node = nodes[i-1]\n",
    "        this_node = nodes[i]\n",
    "        \n",
    "        # move this node\n",
    "        displacement = prev_node - this_node\n",
    "        if np.max(np.abs(displacement)) > 1:\n",
    "            for j, x in enumerate(displacement):\n",
    "                if np.abs(x) > 1:\n",
    "                    displacement[j] = np.sign(x)*(np.abs(x) - 1)\n",
    "            nodes[i] += displacement\n",
    "    return nodes\n",
    "\n",
    "rope_length = 9\n",
    "nodes = [np.array([0, 0]) for _ in range(rope_length + 1)]\n",
    "tail_pos_visited = set()  # set of positions visited by the rope's tail\n",
    "\n",
    "with open(filename, \"r\") as file:\n",
    "    for line in file:\n",
    "        direction, num_steps = line.strip().split()\n",
    "        num_steps = int(num_steps)\n",
    "        this_step = np.array(delta_steps[direction])\n",
    "        \n",
    "        # print(direction, num_steps)\n",
    "        for _ in range(num_steps):\n",
    "            nodes = evolve_rope(nodes, this_step)\n",
    "            # print(nodes)\n",
    "            tail_pos_visited.add(tuple(nodes[-1]))\n",
    "\n",
    "print(f\"{len(tail_pos_visited)=}\")"
   ]
  },
  {
   "cell_type": "code",
   "execution_count": null,
   "id": "5f06ce2e-cc1f-4522-b552-a8509f4d02e7",
   "metadata": {},
   "outputs": [],
   "source": []
  }
 ],
 "metadata": {
  "kernelspec": {
   "display_name": "Python 3",
   "language": "python",
   "name": "python3"
  },
  "language_info": {
   "codemirror_mode": {
    "name": "ipython",
    "version": 3
   },
   "file_extension": ".py",
   "mimetype": "text/x-python",
   "name": "python",
   "nbconvert_exporter": "python",
   "pygments_lexer": "ipython3",
   "version": "3.9.13"
  }
 },
 "nbformat": 4,
 "nbformat_minor": 5
}
