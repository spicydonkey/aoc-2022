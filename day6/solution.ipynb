{
 "cells": [
  {
   "cell_type": "code",
   "execution_count": 2,
   "id": "12271d76-3615-4b86-a084-ad9a147f3f8f",
   "metadata": {},
   "outputs": [],
   "source": [
    "filename = \"input.txt\"\n",
    "\n",
    "message = \"\"\n",
    "with open(filename, \"r\") as file:\n",
    "    for line in file:\n",
    "        message += line.strip()"
   ]
  },
  {
   "cell_type": "code",
   "execution_count": 1,
   "id": "d3251775-91ea-4ec1-a005-badf7aeb1f5b",
   "metadata": {},
   "outputs": [],
   "source": [
    "message = \"bvwbjplbgvbhsrlpgdmjqwftvncz\"\n",
    "message = \"nznrnfrfntjfmvfwmzdfjlvtqnbhcprsg\"\n",
    "message = \"zcfzfwzzqfrljwzlrfnpqdbhtmscgvjw\""
   ]
  },
  {
   "cell_type": "code",
   "execution_count": 3,
   "id": "39a117d2-b30d-42b4-a9c1-5c8c93f7ca01",
   "metadata": {},
   "outputs": [],
   "source": [
    "from collections import Counter"
   ]
  },
  {
   "cell_type": "code",
   "execution_count": 4,
   "id": "066d00f5-638a-4e02-96da-0ad0683198d1",
   "metadata": {},
   "outputs": [],
   "source": [
    "def find_unique_substring(message, n):\n",
    "    # two pointers search of substring\n",
    "    index_head = 0\n",
    "    index_tail = 0  # inclusive\n",
    "    char_counter = Counter({message[0]: 1})\n",
    "    \n",
    "    while True:\n",
    "        # print(char_counter)\n",
    "        \n",
    "        # substring contains duplicate chars\n",
    "        if char_counter.most_common(1)[0][1] > 1:\n",
    "            char_counter[message[index_head]] -= 1\n",
    "            index_head += 1\n",
    "            continue\n",
    "        \n",
    "        # no duplicates!\n",
    "        if index_tail - index_head + 1 == n:\n",
    "            # this is the first occurence of a substring of unique chars\n",
    "            return index_tail + 1\n",
    "        \n",
    "        # grow the substring\n",
    "        index_tail += 1\n",
    "        char_counter[message[index_tail]] += 1"
   ]
  },
  {
   "cell_type": "code",
   "execution_count": 5,
   "id": "9e9fe4f4-a6e0-40ca-9b78-7e0db5579ab3",
   "metadata": {},
   "outputs": [
    {
     "data": {
      "text/plain": [
       "1876"
      ]
     },
     "execution_count": 5,
     "metadata": {},
     "output_type": "execute_result"
    }
   ],
   "source": [
    "# Problem 1\n",
    "find_unique_substring(message, 4)"
   ]
  },
  {
   "cell_type": "code",
   "execution_count": 6,
   "id": "d8fc88f2-b446-4eda-be91-dc3a346531dc",
   "metadata": {},
   "outputs": [
    {
     "data": {
      "text/plain": [
       "2202"
      ]
     },
     "execution_count": 6,
     "metadata": {},
     "output_type": "execute_result"
    }
   ],
   "source": [
    "# Problem 2\n",
    "find_unique_substring(message, 14)"
   ]
  },
  {
   "cell_type": "code",
   "execution_count": null,
   "id": "a95584c0-14e7-4f55-bb8e-78821e46df79",
   "metadata": {},
   "outputs": [],
   "source": []
  }
 ],
 "metadata": {
  "kernelspec": {
   "display_name": "Python 3",
   "language": "python",
   "name": "python3"
  },
  "language_info": {
   "codemirror_mode": {
    "name": "ipython",
    "version": 3
   },
   "file_extension": ".py",
   "mimetype": "text/x-python",
   "name": "python",
   "nbconvert_exporter": "python",
   "pygments_lexer": "ipython3",
   "version": "3.9.13"
  }
 },
 "nbformat": 4,
 "nbformat_minor": 5
}
