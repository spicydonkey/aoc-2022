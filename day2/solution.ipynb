{
 "cells": [
  {
   "cell_type": "code",
   "execution_count": 6,
   "id": "f8c5da9d-6b57-4f72-8835-efb86d513c82",
   "metadata": {},
   "outputs": [],
   "source": [
    "filepath = \"input.txt\""
   ]
  },
  {
   "cell_type": "code",
   "execution_count": 7,
   "id": "c10523fe-ad8b-4aa2-ac71-6336b3b643ae",
   "metadata": {},
   "outputs": [
    {
     "name": "stdout",
     "output_type": "stream",
     "text": [
      "point=15572\n"
     ]
    }
   ],
   "source": [
    "\n",
    "code_to_shapechar = {\"X\": \"A\", \"Y\": \"B\", \"Z\": \"C\"}\n",
    "shapechar_to_shapenum = {\"A\": 0, \"B\": 1, \"C\": 2}\n",
    "shapenum_to_point = {0: 1, 1: 2, 2: 3}\n",
    "result_to_point = {0: 3, 1: 6, 2: 0}\n",
    "\n",
    "point = 0\n",
    "\n",
    "with open(filepath, \"r\") as file:\n",
    "    for line in file:\n",
    "        shapechar_opponent, code_mine = line.strip().split()\n",
    "        shapenum_opponent = shapechar_to_shapenum[shapechar_opponent]\n",
    "        shapenum_mine = shapechar_to_shapenum[code_to_shapechar[code_mine]]\n",
    "        \n",
    "        # point from my chosen shape\n",
    "        point += shapenum_to_point[shapenum_mine]\n",
    "        \n",
    "        # outcome\n",
    "        result = (shapenum_mine - shapenum_opponent) % 3 \n",
    "        \n",
    "        point += result_to_point[result]\n",
    "        \n",
    "print(f\"{point=}\")"
   ]
  },
  {
   "cell_type": "code",
   "execution_count": 8,
   "id": "06897ab8-c845-4ef7-9cd3-bdd5fbebc51a",
   "metadata": {},
   "outputs": [
    {
     "name": "stdout",
     "output_type": "stream",
     "text": [
      "point=16098\n"
     ]
    }
   ],
   "source": [
    "\n",
    "code_to_result = {\"X\": 2, \"Y\": 0, \"Z\": 1}\n",
    "shapechar_to_shapenum = {\"A\": 0, \"B\": 1, \"C\": 2}\n",
    "shapenum_to_point = {0: 1, 1: 2, 2: 3}\n",
    "result_to_point = {0: 3, 1: 6, 2: 0}\n",
    "\n",
    "point = 0\n",
    "\n",
    "with open(filepath, \"r\") as file:\n",
    "    for line in file:\n",
    "        shapechar_opponent, code_mine = line.strip().split()\n",
    "        shapenum_opponent = shapechar_to_shapenum[shapechar_opponent]\n",
    "        \n",
    "        result = code_to_result[code_mine]\n",
    "        shapenum_mine = (result + shapenum_opponent) % 3 \n",
    "        \n",
    "        # point from my chosen shape\n",
    "        point += shapenum_to_point[shapenum_mine]\n",
    "        \n",
    "        # outcome\n",
    "        point += result_to_point[result]\n",
    "        \n",
    "print(f\"{point=}\")"
   ]
  },
  {
   "cell_type": "code",
   "execution_count": null,
   "id": "a96388d4-ca88-452c-8ca4-042d72435c36",
   "metadata": {},
   "outputs": [],
   "source": []
  }
 ],
 "metadata": {
  "kernelspec": {
   "display_name": "Python 3",
   "language": "python",
   "name": "python3"
  },
  "language_info": {
   "codemirror_mode": {
    "name": "ipython",
    "version": 3
   },
   "file_extension": ".py",
   "mimetype": "text/x-python",
   "name": "python",
   "nbconvert_exporter": "python",
   "pygments_lexer": "ipython3",
   "version": "3.9.13"
  }
 },
 "nbformat": 4,
 "nbformat_minor": 5
}
