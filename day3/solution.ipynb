{
 "cells": [
  {
   "cell_type": "code",
   "execution_count": 27,
   "id": "041b3d9b-ed80-4e32-a719-0692513ac4ea",
   "metadata": {},
   "outputs": [],
   "source": [
    "filename = \"input.txt\""
   ]
  },
  {
   "cell_type": "code",
   "execution_count": 28,
   "id": "73ea5ca1-b606-484e-af1c-658dc0d6dbbc",
   "metadata": {},
   "outputs": [
    {
     "name": "stdout",
     "output_type": "stream",
     "text": [
      "priority_sum=7903\n"
     ]
    }
   ],
   "source": [
    "# Problem 1\n",
    "\n",
    "priority_sum = 0\n",
    "with open(filename, \"r\") as file:\n",
    "    for line in file:\n",
    "        rucksack_list = line.strip()\n",
    "        comparment_size = len(rucksack_list)//2\n",
    "        compartment_1 = rucksack_list[:comparment_size]\n",
    "        compartment_2 = rucksack_list[comparment_size:]\n",
    "        common_items = set(compartment_1).intersection(set(compartment_2))\n",
    "        common_item = common_items.pop()\n",
    "        \n",
    "        upper_bonus = common_item.isupper()\n",
    "        priority = ord(common_item.lower()) - ord(\"a\") + 1 + upper_bonus*26\n",
    "        \n",
    "        priority_sum += priority\n",
    "        \n",
    "print(f\"{priority_sum=}\")"
   ]
  },
  {
   "cell_type": "code",
   "execution_count": 29,
   "id": "c358fec5-df0d-4f76-95dc-c3b83be6c605",
   "metadata": {},
   "outputs": [
    {
     "name": "stdout",
     "output_type": "stream",
     "text": [
      "priority_sum=2548\n"
     ]
    }
   ],
   "source": [
    "# Problem 2\n",
    "import string\n",
    "\n",
    "COMPLETE_ITEMS = set(string.ascii_lowercase + string.ascii_uppercase)\n",
    "GROUP_SIZE = 3\n",
    "\n",
    "priority_sum = 0\n",
    "with open(filename, \"r\") as file:\n",
    "    counter = 0\n",
    "    for line in file:\n",
    "        if counter % GROUP_SIZE == 0:\n",
    "            common_group_items = COMPLETE_ITEMS.copy()\n",
    "        \n",
    "        rucksack_list = line.strip()\n",
    "        common_group_items = common_group_items.intersection(set(rucksack_list))\n",
    "        \n",
    "        if counter % GROUP_SIZE == GROUP_SIZE - 1:\n",
    "            # print(f\"{common_group_items=}\")\n",
    "            common_item = common_group_items.pop()\n",
    "            upper_bonus = common_item.isupper()\n",
    "            priority = ord(common_item.lower()) - ord(\"a\") + 1 + upper_bonus*26\n",
    "            priority_sum += priority\n",
    "        counter += 1\n",
    "        \n",
    "print(f\"{priority_sum=}\")"
   ]
  },
  {
   "cell_type": "code",
   "execution_count": null,
   "id": "40b88b17-d424-4bcf-a992-9600ac6fefb0",
   "metadata": {},
   "outputs": [],
   "source": []
  }
 ],
 "metadata": {
  "kernelspec": {
   "display_name": "Python 3",
   "language": "python",
   "name": "python3"
  },
  "language_info": {
   "codemirror_mode": {
    "name": "ipython",
    "version": 3
   },
   "file_extension": ".py",
   "mimetype": "text/x-python",
   "name": "python",
   "nbconvert_exporter": "python",
   "pygments_lexer": "ipython3",
   "version": "3.9.13"
  }
 },
 "nbformat": 4,
 "nbformat_minor": 5
}
