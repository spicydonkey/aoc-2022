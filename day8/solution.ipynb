{
 "cells": [
  {
   "cell_type": "code",
   "execution_count": 79,
   "id": "3976882b-3c09-452f-b707-0b9da7d4f142",
   "metadata": {},
   "outputs": [],
   "source": [
    "filename = \"input.txt\""
   ]
  },
  {
   "cell_type": "code",
   "execution_count": 80,
   "id": "0942a255-c144-41b5-b54b-8c16278d632f",
   "metadata": {},
   "outputs": [],
   "source": [
    "import numpy as np"
   ]
  },
  {
   "cell_type": "code",
   "execution_count": 81,
   "id": "e9aa8136-7eae-42a8-bd34-af22b008f973",
   "metadata": {},
   "outputs": [
    {
     "name": "stdout",
     "output_type": "stream",
     "text": [
      "n_visible=1708\n"
     ]
    }
   ],
   "source": [
    "# Problem 1\n",
    "arr = []\n",
    "with open(filename, \"r\") as file:\n",
    "    for line in file:\n",
    "        arr.append(list(map(int, line.strip())))\n",
    "arr = np.array(arr, dtype=int)\n",
    "\n",
    "# brute force through each array element check it is greater than surrounding row/column elements\n",
    "nrows, ncols = arr.shape\n",
    "n_visible = 0\n",
    "for index, val in np.ndenumerate(arr):\n",
    "    i, j = index\n",
    "    if (i in [0, nrows-1]) or (j in [0, ncols-1]):\n",
    "        n_visible += 1\n",
    "        continue\n",
    "        \n",
    "    # row\n",
    "    if max(arr[i,:j]) < val or max(arr[i,j+1:]) < val:\n",
    "        n_visible += 1\n",
    "        continue\n",
    "    \n",
    "    # column\n",
    "    if max(arr[:i,j]) < val or max(arr[i+1:,j]) < val:\n",
    "        n_visible += 1\n",
    "        continue\n",
    "    \n",
    "print(f\"{n_visible=}\")"
   ]
  },
  {
   "cell_type": "code",
   "execution_count": 82,
   "id": "e76b7a4b-68f1-4c6f-ab49-7a4c013b07aa",
   "metadata": {},
   "outputs": [
    {
     "name": "stdout",
     "output_type": "stream",
     "text": [
      "504000\n"
     ]
    }
   ],
   "source": [
    "# Problem 2\n",
    "\n",
    "def scenic_distance(vector):\n",
    "    for i, val in enumerate(vector):\n",
    "        if val >= 0:\n",
    "            return i+1\n",
    "    return len(vector)\n",
    "\n",
    "max_scenic_score = -1\n",
    "for index, val in np.ndenumerate(arr):\n",
    "    i, j = index\n",
    "    \n",
    "    d_left = scenic_distance(arr[i,:j][::-1] - val)\n",
    "    d_right = scenic_distance(arr[i,j+1:] - val)\n",
    "    d_up = scenic_distance(arr[:i,j][::-1] - val)\n",
    "    d_down = scenic_distance(arr[i+1:,j] - val)\n",
    "    \n",
    "    scenic_score = d_left * d_right * d_up * d_down\n",
    "    \n",
    "    if scenic_score > max_scenic_score:\n",
    "        max_scenic_score = scenic_score    \n",
    "        \n",
    "print(f\"{max_scenic_score}\")"
   ]
  },
  {
   "cell_type": "code",
   "execution_count": null,
   "id": "65fd9ef7-45ad-4a15-af65-77eb49ad6825",
   "metadata": {},
   "outputs": [],
   "source": []
  }
 ],
 "metadata": {
  "kernelspec": {
   "display_name": "Python 3",
   "language": "python",
   "name": "python3"
  },
  "language_info": {
   "codemirror_mode": {
    "name": "ipython",
    "version": 3
   },
   "file_extension": ".py",
   "mimetype": "text/x-python",
   "name": "python",
   "nbconvert_exporter": "python",
   "pygments_lexer": "ipython3",
   "version": "3.9.13"
  }
 },
 "nbformat": 4,
 "nbformat_minor": 5
}
