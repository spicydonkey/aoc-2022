{
 "cells": [
  {
   "cell_type": "code",
   "execution_count": 1,
   "id": "b66fc497-5340-4109-a54f-22e1b3092005",
   "metadata": {},
   "outputs": [],
   "source": [
    "import heapq"
   ]
  },
  {
   "cell_type": "code",
   "execution_count": 2,
   "id": "cfc2f3c8-e2fc-4fbc-9538-2f4980e74fed",
   "metadata": {},
   "outputs": [],
   "source": [
    "filename = \"input.txt\""
   ]
  },
  {
   "cell_type": "code",
   "execution_count": 3,
   "id": "e9b52822-261b-4630-ad96-0f65f743a518",
   "metadata": {},
   "outputs": [],
   "source": [
    "# Construct the height grid\n",
    "height_grid = []\n",
    "pos_zero = []\n",
    "ord_a = ord(\"a\")\n",
    "with open(filename, \"r\") as file:\n",
    "    for i, line in enumerate(file):\n",
    "        line = line.strip()\n",
    "        height_line = []\n",
    "        for j, c in enumerate(line):\n",
    "            if c == \"S\":\n",
    "                # start\n",
    "                pos_start = (i, j)\n",
    "                height = 0  # \"a\"\n",
    "            elif c == \"E\":\n",
    "                # end\n",
    "                pos_end = (i, j)\n",
    "                height = 25  # \"z\"\n",
    "            else:\n",
    "                height = ord(c) - ord_a\n",
    "            height_line.append(height)\n",
    "            if height == 0:\n",
    "                pos_zero.append((i, j))\n",
    "        height_grid.append(height_line)\n",
    "    "
   ]
  },
  {
   "cell_type": "code",
   "execution_count": 4,
   "id": "dd6cc707-a60a-49cb-b77a-479c266fb766",
   "metadata": {},
   "outputs": [
    {
     "name": "stdout",
     "output_type": "stream",
     "text": [
      "min_distance[pos_end]=492\n"
     ]
    }
   ],
   "source": [
    "# best first search to get to end\n",
    "i_max = len(height_grid)\n",
    "j_max = len(height_grid[0])\n",
    "\n",
    "moves = [(0, 1), (0, -1), (-1, 0), (1, 0)]\n",
    "\n",
    "min_distance = {}  # dictionary of grid pos : min dist to grid pos\n",
    "\n",
    "# initial condition\n",
    "# ## PROBLEM1\n",
    "# best_first_heap = [(0, *pos_start)]\n",
    "\n",
    "## PROBLEM2\n",
    "best_first_heap = [(0, *pos) for pos in pos_zero]\n",
    "\n",
    "while pos_end not in min_distance:\n",
    "    # print(best_first_heap)\n",
    "    d, i, j = heapq.heappop(best_first_heap)\n",
    "    # this is the shortest distance to (i, j) from start\n",
    "    min_distance[(i, j)] = d\n",
    "    \n",
    "    # check neighbours \n",
    "    for di, dj in moves:\n",
    "        if (i+di, j+dj) in min_distance:\n",
    "            # min dist has been found already\n",
    "            continue\n",
    "        if 0 <= i + di < i_max and 0 <= j + dj < j_max:\n",
    "            if height_grid[i+di][j+dj] <= height_grid[i][j] + 1:\n",
    "                # can move\n",
    "                heapq.heappush(best_first_heap, (d+1, i+di, j+dj))\n",
    "                min_distance[(i+di, j+dj)] = d+1  # so that heap does not grow\n",
    "        # outside bound\n",
    "\n",
    "print(f\"{min_distance[pos_end]=}\")"
   ]
  },
  {
   "cell_type": "code",
   "execution_count": null,
   "id": "77037be1-8f75-43aa-8dbc-eb5fd05f9160",
   "metadata": {},
   "outputs": [],
   "source": []
  }
 ],
 "metadata": {
  "kernelspec": {
   "display_name": "Python 3",
   "language": "python",
   "name": "python3"
  },
  "language_info": {
   "codemirror_mode": {
    "name": "ipython",
    "version": 3
   },
   "file_extension": ".py",
   "mimetype": "text/x-python",
   "name": "python",
   "nbconvert_exporter": "python",
   "pygments_lexer": "ipython3",
   "version": "3.9.13"
  }
 },
 "nbformat": 4,
 "nbformat_minor": 5
}
