{
 "cells": [
  {
   "cell_type": "code",
   "execution_count": 1,
   "id": "10f1d775-6758-42e7-a4c8-fed63e0b4329",
   "metadata": {},
   "outputs": [],
   "source": [
    "from collections import deque"
   ]
  },
  {
   "cell_type": "code",
   "execution_count": 7,
   "id": "ca6f8d7e-7976-4f94-b478-6419b12449cc",
   "metadata": {},
   "outputs": [],
   "source": [
    "filename = \"input.txt\""
   ]
  },
  {
   "cell_type": "code",
   "execution_count": 8,
   "id": "df8d796b-8412-4a39-a7ee-50ee048ac062",
   "metadata": {},
   "outputs": [
    {
     "name": "stdout",
     "output_type": "stream",
     "text": [
      "sum_signal_strength=14420\n"
     ]
    }
   ],
   "source": [
    "cycle_checks = [20 + 40*i for i in range(6)]\n",
    "\n",
    "X = 1\n",
    "cycle = 1\n",
    "sum_signal_strength = 0\n",
    "queue = deque()\n",
    "cycles_remaining = deque()\n",
    "signal_trace = \"\"\n",
    "with open(filename, \"r\") as file:\n",
    "    for line in file:\n",
    "        command_tokens = line.strip().split()\n",
    "        # operation = command_tokens[0]\n",
    "        # if operation == \"noop\":\n",
    "        #     cycle += 1\n",
    "        # elif operation == \"addx\":\n",
    "        #     cycle += 2\n",
    "        #     X += int(command_tokens[1])\n",
    "        queue.append(command_tokens)\n",
    "        cycles_remaining.append(1 if command_tokens[0] == \"noop\" else 2)\n",
    "        \n",
    "        # run until all jobs complete\n",
    "        while len(queue) > 0:\n",
    "            # this happens during this cycle\n",
    "            if cycle in cycle_checks:\n",
    "                sum_signal_strength += cycle * X\n",
    "            \n",
    "            if abs(X - (cycle - 1)%40) <= 1:\n",
    "                signal_trace += \"#\"\n",
    "            else:\n",
    "                signal_trace += \".\"\n",
    "            if (cycle-1) % 40 == 39:\n",
    "                signal_trace += \"\\n\"\n",
    "            \n",
    "            # happens at the end of this cycle\n",
    "            cycle += 1\n",
    "            this_command = queue[0]\n",
    "            cycles_remaining[0] -= 1\n",
    "            if this_command[0] == \"noop\":\n",
    "                pass\n",
    "            elif this_command[0] == \"addx\":\n",
    "                if cycles_remaining[0] == 0:\n",
    "                    X += int(this_command[1])\n",
    "            \n",
    "            if cycles_remaining[0] == 0:\n",
    "                queue.popleft()\n",
    "                cycles_remaining.popleft()\n",
    "                \n",
    "print(f\"{sum_signal_strength=}\")"
   ]
  },
  {
   "cell_type": "code",
   "execution_count": 9,
   "id": "2f67268a-8c36-45cd-a8fe-13746b53d42f",
   "metadata": {},
   "outputs": [
    {
     "data": {
      "text/plain": [
       "246"
      ]
     },
     "execution_count": 9,
     "metadata": {},
     "output_type": "execute_result"
    }
   ],
   "source": [
    "len(signal_trace)"
   ]
  },
  {
   "cell_type": "code",
   "execution_count": 10,
   "id": "3616f6d5-b3a8-42de-a28b-e01504e34123",
   "metadata": {},
   "outputs": [
    {
     "name": "stdout",
     "output_type": "stream",
     "text": [
      "###...##..#....###..###..####..##..#..#.\n",
      "#..#.#..#.#....#..#.#..#....#.#..#.#..#.\n",
      "#..#.#....#....#..#.###....#..#..#.#..#.\n",
      "###..#.##.#....###..#..#..#...####.#..#.\n",
      "#.#..#..#.#....#.#..#..#.#....#..#.#..#.\n",
      "#..#..###.####.#..#.###..####.#..#..##..\n",
      "\n"
     ]
    }
   ],
   "source": [
    "print(signal_trace)"
   ]
  },
  {
   "cell_type": "code",
   "execution_count": 12,
   "id": "45ed9517-34d1-4ddd-9dd9-df50ef3094b5",
   "metadata": {},
   "outputs": [],
   "source": [
    "# it reads RGLRBZAU"
   ]
  },
  {
   "cell_type": "code",
   "execution_count": null,
   "id": "d6766a7b-8017-4f99-a7b1-33e297f1e9bd",
   "metadata": {},
   "outputs": [],
   "source": []
  }
 ],
 "metadata": {
  "kernelspec": {
   "display_name": "Python 3",
   "language": "python",
   "name": "python3"
  },
  "language_info": {
   "codemirror_mode": {
    "name": "ipython",
    "version": 3
   },
   "file_extension": ".py",
   "mimetype": "text/x-python",
   "name": "python",
   "nbconvert_exporter": "python",
   "pygments_lexer": "ipython3",
   "version": "3.9.13"
  }
 },
 "nbformat": 4,
 "nbformat_minor": 5
}
