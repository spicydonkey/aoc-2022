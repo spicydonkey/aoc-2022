{
 "cells": [
  {
   "cell_type": "code",
   "execution_count": 12,
   "id": "cfbcda96-dece-40cc-85a0-55a1cdbb18d7",
   "metadata": {},
   "outputs": [],
   "source": [
    "filepath = \"input.txt\""
   ]
  },
  {
   "cell_type": "code",
   "execution_count": 13,
   "id": "be1513bc-f6a4-406e-9e98-de4f3906740a",
   "metadata": {},
   "outputs": [
    {
     "name": "stdout",
     "output_type": "stream",
     "text": [
      "max_elf_calorie=67027\n"
     ]
    }
   ],
   "source": [
    "# Get the maximum calorie carried by an elf\n",
    "with open(filepath, \"r\") as file:\n",
    "    max_elf_calorie = 0\n",
    "    current_elf_calorie = 0\n",
    "    \n",
    "    for line in file:\n",
    "        line = line.strip()\n",
    "        if line == \"\":\n",
    "            # end of this elf's inventory\n",
    "            if current_elf_calorie > max_elf_calorie:\n",
    "                max_elf_calorie = current_elf_calorie\n",
    "            \n",
    "            # start of next elf inventory\n",
    "            current_elf_calorie = 0\n",
    "        else:\n",
    "            current_elf_calorie += int(line)\n",
    "            \n",
    "    # end of file -- count this elf too\n",
    "    if current_elf_calorie > max_elf_calorie:\n",
    "        max_elf_calorie = current_elf_calorie\n",
    "        \n",
    "print(f\"{max_elf_calorie=}\")"
   ]
  },
  {
   "cell_type": "code",
   "execution_count": 17,
   "id": "074b7109-a46b-4f6b-b67e-ac3ff1b601d3",
   "metadata": {},
   "outputs": [],
   "source": [
    "import heapq"
   ]
  },
  {
   "cell_type": "code",
   "execution_count": 32,
   "id": "4533db8d-b73a-4e35-bc73-b7a99c666929",
   "metadata": {},
   "outputs": [
    {
     "name": "stdout",
     "output_type": "stream",
     "text": [
      "[64931, 65333, 67027]\n",
      "sum(max_calories)=197291\n"
     ]
    }
   ],
   "source": [
    "# Get the sum of three largest calories carried by the elves\n",
    "n_largest = 3\n",
    "with open(filepath, \"r\") as file:\n",
    "    # initialise max calories list\n",
    "    max_calories = [0]*n_largest\n",
    "    \n",
    "    current_elf_calorie = 0\n",
    "    for line in file:\n",
    "        line = line.strip()\n",
    "        if line == \"\":\n",
    "            # end of this elf's inventory\n",
    "            if current_elf_calorie > max_calories[0]:\n",
    "                heapq.heappushpop(max_calories, current_elf_calorie)\n",
    "                \n",
    "            # start of next elf inventory\n",
    "            current_elf_calorie = 0\n",
    "        else:\n",
    "            # increment this elf's total calories\n",
    "            current_elf_calorie += int(line)\n",
    "            \n",
    "    # end of file -- count this elf too\n",
    "    if current_elf_calorie > max_calories[0]:\n",
    "        heapq.heappushpop(max_calories, current_elf_calorie)\n",
    "\n",
    "print(max_calories)\n",
    "print(f\"{sum(max_calories)=}\")"
   ]
  },
  {
   "cell_type": "code",
   "execution_count": null,
   "id": "2c2ba421-01c7-4196-9f1a-2e57cf770d14",
   "metadata": {},
   "outputs": [],
   "source": []
  }
 ],
 "metadata": {
  "kernelspec": {
   "display_name": "Python 3",
   "language": "python",
   "name": "python3"
  },
  "language_info": {
   "codemirror_mode": {
    "name": "ipython",
    "version": 3
   },
   "file_extension": ".py",
   "mimetype": "text/x-python",
   "name": "python",
   "nbconvert_exporter": "python",
   "pygments_lexer": "ipython3",
   "version": "3.9.13"
  }
 },
 "nbformat": 4,
 "nbformat_minor": 5
}
