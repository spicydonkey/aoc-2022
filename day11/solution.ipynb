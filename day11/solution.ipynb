{
 "cells": [
  {
   "cell_type": "code",
   "execution_count": 4,
   "id": "2ab39a2d-5b19-46b0-8d50-3c4a5568611e",
   "metadata": {},
   "outputs": [],
   "source": [
    "filename = \"input.txt\""
   ]
  },
  {
   "cell_type": "code",
   "execution_count": 5,
   "id": "a77e3996-a372-4b34-acf4-497664b6bddd",
   "metadata": {},
   "outputs": [],
   "source": [
    "from collections import deque\n",
    "import math\n",
    "\n",
    "import numpy as np"
   ]
  },
  {
   "cell_type": "code",
   "execution_count": 6,
   "id": "a7847e9e-dec1-4917-a1f5-af6cc926e17a",
   "metadata": {},
   "outputs": [],
   "source": [
    "def monkey_operation(op_tokens, val):\n",
    "    op = op_tokens[1]\n",
    "    val2 = op_tokens[2]\n",
    "    if val2 == \"old\":\n",
    "        val2 = val\n",
    "    else:\n",
    "        val2 = int(val2)\n",
    "    assert op in [\"+\", \"*\"]\n",
    "    if op == \"+\":\n",
    "        return val + val2\n",
    "    elif op == \"*\":\n",
    "        return val * val2\n",
    "    else:\n",
    "        raise ValueError(\"Invalid value\")"
   ]
  },
  {
   "cell_type": "code",
   "execution_count": 7,
   "id": "241d02f2-b145-4506-9bb3-75ca607625c5",
   "metadata": {},
   "outputs": [
    {
     "name": "stdout",
     "output_type": "stream",
     "text": [
      "monkey_business=14399879944\n"
     ]
    }
   ],
   "source": [
    "# Parse input to setup data structures\n",
    "items = []\n",
    "operations = []\n",
    "test_factors = []\n",
    "pass_true = []\n",
    "pass_false = []\n",
    "with open(filename, \"r\") as file:\n",
    "    counter = 0\n",
    "    for line in file:\n",
    "        info = line.strip().split(\":\")[-1]\n",
    "        # print(info)\n",
    "        if counter % 7 == 1:\n",
    "            # parse item\n",
    "            items.append(list(map(int, info.split(\",\"))))\n",
    "        elif counter % 7 == 2:\n",
    "            # parse operation\n",
    "            operations.append(info.split(\"=\")[-1].split())\n",
    "        elif counter % 7 == 3:\n",
    "            # parse divisibility criterion\n",
    "            test_factors.append(int(info.split()[-1]))\n",
    "        elif counter % 7 == 4:\n",
    "            # parse throwee true\n",
    "            pass_true.append(int(info.split()[-1]))\n",
    "        elif counter % 7 == 5:\n",
    "            # parse throwee false\n",
    "            pass_false.append(int(info.split()[-1]))\n",
    "        counter += 1\n",
    "        \n",
    "# Simulate!\n",
    "lcm = math.lcm(*test_factors)\n",
    "\n",
    "n_inspections = [0] * len(items)\n",
    "n_rounds = 10000\n",
    "for _ in range(n_rounds):\n",
    "    for idx_monkey, this_items in enumerate(items):\n",
    "        for item in this_items:\n",
    "            ## process this item\n",
    "            # apply monkey operation\n",
    "            item = monkey_operation(operations[idx_monkey], item)\n",
    "            # adjust for relief\n",
    "            item //= 3\n",
    "            # adjust for overall test criteria\n",
    "            item %= lcm\n",
    "            # test condition\n",
    "            # pop onto coresponding throwee monkey's items\n",
    "            if item % test_factors[idx_monkey] == 0:\n",
    "                items[pass_true[idx_monkey]].append(item)\n",
    "            else:\n",
    "                items[pass_false[idx_monkey]].append(item)\n",
    "                \n",
    "        # increment this monkey's inspection count by len(this_items)\n",
    "        n_inspections[idx_monkey] += len(this_items)\n",
    "        # reset this monkey's this_items to []\n",
    "        items[idx_monkey] = []\n",
    "\n",
    "# evaluate the product of largest two inspection counts\n",
    "monkey_business = np.prod(sorted(n_inspections)[-2:])\n",
    "print(f\"{monkey_business=}\")"
   ]
  },
  {
   "cell_type": "code",
   "execution_count": 5,
   "id": "1d0811d1-abaf-4ed0-b9a9-25ab599fd0ca",
   "metadata": {},
   "outputs": [
    {
     "name": "stdout",
     "output_type": "stream",
     "text": [
      "items=[[2, 2, 2, 2, 2, 2, 2, 2, 2, 2, 7, 7, 7, 7], [3, 1, 1, 1, 1, 1, 1, 1, 1, 1, 1, 1, 1, 1, 6], [], [2, 2, 2, 2, 2, 2, 2], [], [], [], []]\n",
      "n_inspections=[213, 194, 245, 217, 230, 46, 216, 28]\n"
     ]
    }
   ],
   "source": [
    "print(f\"{items=}\")\n",
    "print(f\"{n_inspections=}\")"
   ]
  },
  {
   "cell_type": "code",
   "execution_count": 6,
   "id": "e121f995-124f-4dc0-8d81-1ce2e6b0cf76",
   "metadata": {},
   "outputs": [
    {
     "name": "stdout",
     "output_type": "stream",
     "text": [
      "items=[[2, 2, 2, 2, 2, 2, 2, 2, 2, 2, 7, 7, 7, 7], [3, 1, 1, 1, 1, 1, 1, 1, 1, 1, 1, 1, 1, 1, 6], [], [2, 2, 2, 2, 2, 2, 2], [], [], [], []]\n",
      "operations=[['old', '*', '7'], ['old', '*', '17'], ['old', '+', '2'], ['old', '+', '1'], ['old', '+', '6'], ['old', '*', 'old'], ['old', '+', '3'], ['old', '+', '4']]\n",
      "test_factors=[11, 19, 5, 2, 13, 7, 3, 17]\n",
      "pass_true=[5, 4, 7, 2, 7, 6, 1, 0]\n",
      "pass_false=[6, 2, 4, 1, 0, 3, 3, 5]\n"
     ]
    }
   ],
   "source": [
    "print(f\"{items=}\")\n",
    "print(f\"{operations=}\")\n",
    "print(f\"{test_factors=}\")\n",
    "print(f\"{pass_true=}\")\n",
    "print(f\"{pass_false=}\")"
   ]
  },
  {
   "cell_type": "code",
   "execution_count": null,
   "id": "e745f801-5f13-4963-a696-02aa12b9c4ee",
   "metadata": {},
   "outputs": [],
   "source": []
  }
 ],
 "metadata": {
  "kernelspec": {
   "display_name": "Python 3",
   "language": "python",
   "name": "python3"
  },
  "language_info": {
   "codemirror_mode": {
    "name": "ipython",
    "version": 3
   },
   "file_extension": ".py",
   "mimetype": "text/x-python",
   "name": "python",
   "nbconvert_exporter": "python",
   "pygments_lexer": "ipython3",
   "version": "3.9.13"
  }
 },
 "nbformat": 4,
 "nbformat_minor": 5
}
